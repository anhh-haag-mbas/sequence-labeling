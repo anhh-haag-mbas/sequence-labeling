{
 "cells": [
  {
   "cell_type": "code",
   "execution_count": 1,
   "metadata": {},
   "outputs": [],
   "source": [
    "import sys\n",
    "import dynet as dy\n",
    "import ipdb \n",
    "import timeit\n",
    "from extractor import get_data\n",
    "from simple_pos_tagger import SimplePOSTagger\n",
    "from helper import time"
   ]
  },
  {
   "cell_type": "code",
   "execution_count": 2,
   "metadata": {},
   "outputs": [],
   "source": [
    "train_inputs, train_labels, tags, vocab = get_data(\"data/da_ddt-ud-train.conllu\")\n",
    "val_inputs, val_labels, _, _ = get_data(\"data/da_ddt-ud-dev.conllu\")"
   ]
  },
  {
   "cell_type": "code",
   "execution_count": 3,
   "metadata": {},
   "outputs": [],
   "source": [
    "def to_input(word2int, word, unknown = 0):\n",
    "    \"\"\"\n",
    "    Transforms words to their respective integer representation or unknown if not in dict\n",
    "    \"\"\"\n",
    "    if word in word2int.keys():\n",
    "        return word2int[word]\n",
    "    return unknown "
   ]
  },
  {
   "cell_type": "code",
   "execution_count": 4,
   "metadata": {},
   "outputs": [],
   "source": [
    "int2word = [\"<UNK>\"] + vocab\n",
    "word2int = {w:i for i, w in enumerate(int2word)}\n",
    "int2tag  = tags\n",
    "tag2int  = {w:i for i, w in enumerate(int2tag)}\n",
    "\n",
    "train_inputs = [[word2int[w] for w in ws] for ws in train_inputs] \n",
    "train_labels = [[tag2int[t] for t in ts] for ts in train_labels]\n",
    "\n",
    "val_inputs = [[to_input(word2int, w, 0) for w in ws] for ws in val_inputs]\n",
    "val_labels = [[tag2int[t] for t in ts] for ts in val_labels]"
   ]
  },
  {
   "cell_type": "code",
   "execution_count": 8,
   "metadata": {},
   "outputs": [],
   "source": [
    "VOCAB_SIZE = len(int2word)\n",
    "EMBED_SIZE = 86\n",
    "HIDDEN_DIM = 16\n",
    "OUTPUT_DIM = len(tags)\n",
    "\n",
    "my_tagger = SimplePOSTagger(\n",
    "                vocab_size = VOCAB_SIZE, \n",
    "                output_size = OUTPUT_DIM, \n",
    "                embed_size = EMBED_SIZE, \n",
    "                hidden_size = HIDDEN_DIM)"
   ]
  },
  {
   "cell_type": "markdown",
   "metadata": {},
   "source": []
  },
  {
   "cell_type": "code",
   "execution_count": 6,
   "metadata": {},
   "outputs": [
    {
     "name": "stdout",
     "output_type": "stream",
     "text": [
      "Training...\n",
      "Training time 2.087472979999802\n",
      "None\n"
     ]
    }
   ],
   "source": [
    "if len(sys.argv) > 1 and sys.argv[1] == \"load\":\n",
    "    print(\"Loading...\")\n",
    "    my_tagger.load(\"tmp/tmp.model\")\n",
    "else:\n",
    "    print(\"Training...\")\n",
    "    result, elapsed = time(my_tagger.fit, train_inputs, train_labels)\n",
    "    print(f\"Training time {elapsed}\")\n",
    "    print(result)\n",
    "    my_tagger.save(\"tmp/tmp.model\")\n"
   ]
  },
  {
   "cell_type": "code",
   "execution_count": 7,
   "metadata": {},
   "outputs": [
    {
     "name": "stdout",
     "output_type": "stream",
     "text": [
      "Predicting: <UNK> <UNK> med vand og får et <UNK> <UNK> udseende , som man dog ikke skal lade sig narre af !\n",
      "Word\tPredicted\tExpected\tSame\n",
      "<UNK>\tNOUN\t\tPROPN\tFalse\n",
      "<UNK>\tNOUN\t\tVERB\tFalse\n",
      "med\tADP\t\tADP\tTrue\n",
      "vand\tNOUN\t\tNOUN\tTrue\n",
      "og\tCCONJ\t\tCCONJ\tTrue\n",
      "får\tVERB\t\tVERB\tTrue\n",
      "et\tDET\t\tDET\tTrue\n",
      "<UNK>\tNOUN\t\tADJ\tFalse\n",
      "<UNK>\tNOUN\t\tADJ\tFalse\n",
      "udseende\tNOUN\t\tNOUN\tTrue\n",
      ",\tPUNCT\t\tPUNCT\tTrue\n",
      "som\tPRON\t\tADP\tFalse\n",
      "man\tPRON\t\tPRON\tTrue\n",
      "dog\tADV\t\tADV\tTrue\n",
      "ikke\tADV\t\tADV\tTrue\n",
      "skal\tAUX\t\tAUX\tTrue\n",
      "lade\tVERB\t\tVERB\tTrue\n",
      "sig\tPRON\t\tPRON\tTrue\n",
      "narre\tVERB\t\tVERB\tTrue\n",
      "af\tADP\t\tADP\tTrue\n",
      "!\tPUNCT\t\tPUNCT\tTrue\n"
     ]
    }
   ],
   "source": [
    "idx = 3\n",
    "\n",
    "sentence = [int2word[i] for i in val_inputs[idx]]\n",
    "\n",
    "print(f\"Predicting: {' '.join(sentence)}\")\n",
    "prediction = my_tagger.predict(val_inputs[idx])\n",
    "prediction = [int2tag[i] for i in prediction]\n",
    "\n",
    "labels = [int2tag[i] for i in val_labels[idx]]\n",
    "print(\"Word\\tPredicted\\tExpected\\tSame\")\n",
    "for word, predicted, expected in zip(sentence, prediction, labels):\n",
    "      print(f\"{word}\\t{predicted}\\t\\t{expected}\\t{predicted==expected}\")"
   ]
  }
 ],
 "metadata": {
  "kernelspec": {
   "display_name": "Python 3",
   "language": "python",
   "name": "python3"
  },
  "language_info": {
   "codemirror_mode": {
    "name": "ipython",
    "version": 3
   },
   "file_extension": ".py",
   "mimetype": "text/x-python",
   "name": "python",
   "nbconvert_exporter": "python",
   "pygments_lexer": "ipython3",
   "version": "3.6.7"
  }
 },
 "nbformat": 4,
 "nbformat_minor": 2
}
