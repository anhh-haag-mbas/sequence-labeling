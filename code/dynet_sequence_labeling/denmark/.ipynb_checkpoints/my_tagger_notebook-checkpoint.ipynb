{
 "cells": [
  {
   "cell_type": "code",
   "execution_count": 10,
   "metadata": {},
   "outputs": [],
   "source": [
    "import sys\n",
    "import dynet as dy\n",
    "import ipdb \n",
    "import timeit\n",
    "from extractor import get_data\n",
    "from simple_pos_tagger import SimplePOSTagger"
   ]
  },
  {
   "cell_type": "code",
   "execution_count": 11,
   "metadata": {},
   "outputs": [],
   "source": [
    "train_inputs, train_labels, tags, vocab = get_data(\"data/da_ddt-ud-train.conllu\")\n",
    "val_inputs, val_labels, _, _ = get_data(\"data/da_ddt-ud-dev.conllu\")"
   ]
  },
  {
   "cell_type": "code",
   "execution_count": 12,
   "metadata": {},
   "outputs": [],
   "source": [
    "int2word = [\"<UNK>\"] + vocab\n",
    "word2int = {w:i for i, w in enumerate(int2word)}\n",
    "int2tag  = tags\n",
    "tag2int  = {w:i for i, w in enumerate(int2tag)}"
   ]
  },
  {
   "cell_type": "code",
   "execution_count": 13,
   "metadata": {},
   "outputs": [],
   "source": [
    "VOCAB_SIZE = len(int2word)\n",
    "EMBED_SIZE = 86\n",
    "HIDDEN_DIM = 16\n",
    "\n",
    "\n",
    "OUTPUT_DIM = len(tags)\n",
    "\n",
    "my_tagger = SimplePOSTagger(\n",
    "                vocab_size = VOCAB_SIZE, \n",
    "                output_size = OUTPUT_DIM, \n",
    "                embed_size = EMBED_SIZE, \n",
    "                hidden_size = HIDDEN_DIM)"
   ]
  },
  {
   "cell_type": "code",
   "execution_count": 14,
   "metadata": {},
   "outputs": [
    {
     "name": "stdout",
     "output_type": "stream",
     "text": [
      "Training...\n",
      "Elapsed 2.012123819997214\n"
     ]
    }
   ],
   "source": [
    "train_inputs = [[word2int[w] for w in ws] for ws in train_inputs] \n",
    "train_labels = [[tag2int[t] for t in ts] for ts in train_labels]\n",
    "\n",
    "if len(sys.argv) > 1 and sys.argv[1] == \"load\":\n",
    "    print(\"Loading...\")\n",
    "    my_tagger.load(\"tmp/tmp.model\")\n",
    "else:\n",
    "    print(\"Training...\")\n",
    "    time(my_tagger.train, train_inputs, train_labels)\n",
    "    my_tagger.save(\"tmp/tmp.model\")\n"
   ]
  },
  {
   "cell_type": "code",
   "execution_count": null,
   "metadata": {},
   "outputs": [],
   "source": []
  },
  {
   "cell_type": "code",
   "execution_count": 15,
   "metadata": {},
   "outputs": [],
   "source": [
    "def time(func, *args):\n",
    "    a = []\n",
    "    for e in args:\n",
    "        a.append(e)\n",
    "    l = len(a)\n",
    "    start_time = timeit.default_timer()\n",
    "    if l == 0:\n",
    "        func()\n",
    "    elif l == 1:\n",
    "        func(a[0])\n",
    "    elif l == 2:\n",
    "        func(a[0], a[1])\n",
    "    elif l == 3:\n",
    "        func(a[0], a[1], a[2])\n",
    "    elapsed = timeit.default_timer() - start_time\n",
    "    print(f\"Elapsed {elapsed}\")"
   ]
  },
  {
   "cell_type": "code",
   "execution_count": 16,
   "metadata": {},
   "outputs": [],
   "source": [
    "def to_input(word, unknown = 0):\n",
    "    \"\"\"\n",
    "    Transforms words to their respective integer representation or unknown if not in dict\n",
    "    \"\"\"\n",
    "    if word in word2int.keys():\n",
    "        return word2int[word]\n",
    "    return unknown "
   ]
  },
  {
   "cell_type": "code",
   "execution_count": 17,
   "metadata": {},
   "outputs": [
    {
     "name": "stdout",
     "output_type": "stream",
     "text": [
      "Predicting: Hvor kommer <UNK> fra ?\n",
      "['ADV', 'VERB', 'NOUN', 'ADP', 'PUNCT']\n"
     ]
    }
   ],
   "source": [
    "val_inputs = [[to_input(w) for w in ws] for ws in val_inputs]\n",
    "val_labels = [[tag2int[t] for t in ts] for ts in val_labels]\n",
    "sentence = [int2word[i] for i in val_inputs[0]]\n",
    "\n",
    "print(f\"Predicting: {' '.join(sentence)}\")\n",
    "prediction = my_tagger.predict(val_inputs[0])\n",
    "prediction = [int2tag[i] for i in prediction]\n",
    "print(prediction)"
   ]
  }
 ],
 "metadata": {
  "kernelspec": {
   "display_name": "Python 3",
   "language": "python",
   "name": "python3"
  },
  "language_info": {
   "codemirror_mode": {
    "name": "ipython",
    "version": 3
   },
   "file_extension": ".py",
   "mimetype": "text/x-python",
   "name": "python",
   "nbconvert_exporter": "python",
   "pygments_lexer": "ipython3",
   "version": "3.6.7"
  }
 },
 "nbformat": 4,
 "nbformat_minor": 2
}
