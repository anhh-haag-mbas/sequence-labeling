{
 "cells": [
  {
   "cell_type": "code",
   "execution_count": 10,
   "metadata": {},
   "outputs": [
    {
     "name": "stdout",
     "output_type": "stream",
     "text": [
      "The autoreload extension is already loaded. To reload it, use:\n  %reload_ext autoreload\n"
     ]
    }
   ],
   "source": [
    "# Autoreload allows for automatic reloading of imported modules\n",
    "%load_ext autoreload\n",
    "# Load main using autoreload\n",
    "%aimport sentences\n",
    "# Automatically reload all things imported using autoreload\n",
    "%autoreload 1\n",
    "\n",
    "from sentences import Sentences\n",
    "\n",
    "sentences = Sentences(\"pos\", \"da\")"
   ]
  },
  {
   "cell_type": "code",
   "execution_count": 12,
   "metadata": {},
   "outputs": [
    {
     "name": "stdout",
     "output_type": "stream",
     "text": [
      "### SENTENCE LENGTH ###\n91\n### SAMPLE WORDS ###\n"
     ]
    },
    {
     "name": "stdout",
     "output_type": "stream",
     "text": [
      "['-', 'Få', 'den', 'UD', 'AF']\n### SAMPLE TAGS ###\n"
     ]
    },
    {
     "name": "stdout",
     "output_type": "stream",
     "text": [
      "['PUNCT', 'VERB', 'PRON', 'ADV', 'ADP']\n"
     ]
    }
   ],
   "source": [
    "print(\"### SENTENCE LENGTH ###\")\n",
    "print(sentences.sentence_length)\n",
    "print(\"### SAMPLE WORDS ###\")\n",
    "print(sentences.training_words()[20][0:5])\n",
    "print(\"### SAMPLE TAGS ###\")\n",
    "print(sentences.training_tags()[20][0:5])"
   ]
  },
  {
   "cell_type": "code",
   "execution_count": 14,
   "metadata": {},
   "outputs": [
    {
     "name": "stdout",
     "output_type": "stream",
     "text": [
      "### PADDED SAMPLE WORDS ###\n"
     ]
    },
    {
     "name": "stdout",
     "output_type": "stream",
     "text": [
      "[['På', 'fr', 'ha', 'SI', 'in', 'ti', 're', 'i', 'SI', 'i', 'an', 'af', 'at', 'fo', 'Kj', 'Ch', 'gå', 'in', 'i', 'de', 'gl', 'tr', '.', '__', '__', '__', '__', '__', '__', '__', '__', '__', '__', '__', '__', '__', '__', '__', '__', '__', '__', '__', '__', '__', '__', '__', '__', '__', '__', '__', '__', '__', '__', '__', '__', '__', '__', '__', '__', '__', '__', '__', '__', '__', '__', '__', '__', '__', '__', '__', '__', '__', '__', '__', '__', '__', '__', '__', '__', '__', '__', '__', '__', '__', '__', '__', '__', '__', '__', '__', '__'], ['El', 'sl', 'og', 're', 'ty', 'og', 'fe', 'i', 'me', 'el', 'mi', 'gr', ',', 'so', 'en', 'en', 'ud', 'de', '.', '__', '__', '__', '__', '__', '__', '__', '__', '__', '__', '__', '__', '__', '__', '__', '__', '__', '__', '__', '__', '__', '__', '__', '__', '__', '__', '__', '__', '__', '__', '__', '__', '__', '__', '__', '__', '__', '__', '__', '__', '__', '__', '__', '__', '__', '__', '__', '__', '__', '__', '__', '__', '__', '__', '__', '__', '__', '__', '__', '__', '__', '__', '__', '__', '__', '__', '__', '__', '__', '__', '__', '__']]\n### PADDED SAMPLE TAGS ###\n"
     ]
    },
    {
     "name": "stdout",
     "output_type": "stream",
     "text": [
      "[['AD', 'NO', 'AU', 'PR', 'VE', 'AD', 'NO', 'AD', 'NO', 'AD', 'NO', 'AD', 'SC', 'NO', 'PR', 'PR', 'VE', 'AD', 'AD', 'DE', 'AD', 'NO', 'PU', '__', '__', '__', '__', '__', '__', '__', '__', '__', '__', '__', '__', '__', '__', '__', '__', '__', '__', '__', '__', '__', '__', '__', '__', '__', '__', '__', '__', '__', '__', '__', '__', '__', '__', '__', '__', '__', '__', '__', '__', '__', '__', '__', '__', '__', '__', '__', '__', '__', '__', '__', '__', '__', '__', '__', '__', '__', '__', '__', '__', '__', '__', '__', '__', '__', '__', '__', '__'], ['CC', 'AD', 'CC', 'AD', 'AD', 'CC', 'AD', 'AD', 'AD', 'CC', 'AD', 'NO', 'PU', 'PR', 'DE', 'AD', 'VE', 'PR', 'PU', '__', '__', '__', '__', '__', '__', '__', '__', '__', '__', '__', '__', '__', '__', '__', '__', '__', '__', '__', '__', '__', '__', '__', '__', '__', '__', '__', '__', '__', '__', '__', '__', '__', '__', '__', '__', '__', '__', '__', '__', '__', '__', '__', '__', '__', '__', '__', '__', '__', '__', '__', '__', '__', '__', '__', '__', '__', '__', '__', '__', '__', '__', '__', '__', '__', '__', '__', '__', '__', '__', '__', '__']]\n"
     ]
    }
   ],
   "source": [
    "print(\"### PADDED SAMPLE WORDS ###\")\n",
    "print([[word[0:2] for word in group] for group in sentences.training_words()[0:2]])\n",
    "print(\"### PADDED SAMPLE TAGS ###\")\n",
    "print([[tag[0:2] for tag in group] for group in sentences.training_tags()[0:2]])"
   ]
  },
  {
   "cell_type": "code",
   "execution_count": 16,
   "metadata": {},
   "outputs": [
    {
     "name": "stdout",
     "output_type": "stream",
     "text": [
      "### TRAINING DATA LENGTH ###\n4383 4383\n\n### VALIDATION DATA LENGTH ###\n564 564\n\n### TEST DATA LENGTH ###\n565 565\n\n"
     ]
    }
   ],
   "source": [
    "print(\"### TRAINING DATA LENGTH ###\")\n",
    "print(len(sentences.training_word_ids), len(sentences.training_tag_ids))\n",
    "print()\n",
    "\n",
    "print(\"### VALIDATION DATA LENGTH ###\")\n",
    "print(len(sentences.validation_word_ids), len(sentences.validation_tag_ids))\n",
    "print()\n",
    "\n",
    "print(\"### TEST DATA LENGTH ###\")\n",
    "print(len(sentences.testing_word_ids), len(sentences.testing_tag_ids))\n",
    "print()"
   ]
  },
  {
   "cell_type": "code",
   "execution_count": 18,
   "metadata": {},
   "outputs": [
    {
     "name": "stdout",
     "output_type": "stream",
     "text": [
      "### SAMPLE WORDS ###\n['Og', 'når', 'deres', 'repræsentanter', 'er']\n[  499   479   803 13151    59]\n\n### SAMPLE TAGS ###\n['CCONJ', 'SCONJ', 'DET', 'NOUN', 'AUX']\n[12  7  9  3  4]\n\n### WORD DICTIONARY SAMPLE ###\n[('__unk__', 1), ('__pad__', 0), ('På', 2), ('fredag', 3), ('har', 4)]\n16332 words\n\n### TAG DICTIONARY SAMPLE ###\n[('__unk__', 1), ('__pad__', 0), ('ADP', 2), ('NOUN', 3), ('AUX', 4)]\n19 tags\n\n"
     ]
    }
   ],
   "source": [
    "print(\"### SAMPLE WORDS ###\")\n",
    "print(sentences.testing_words()[3][0:5])\n",
    "print(sentences.testing_word_ids[3][0:5])\n",
    "print()\n",
    "\n",
    "print(\"### SAMPLE TAGS ###\")\n",
    "print(sentences.testing_tags()[3][0:5])\n",
    "print(sentences.testing_tag_ids[3][0:5])\n",
    "print()\n",
    "\n",
    "print(\"### WORD DICTIONARY SAMPLE ###\")\n",
    "print(list(sentences.id_by_word.items())[0:5])\n",
    "print(sentences.word_count, \"words\")\n",
    "print()\n",
    "\n",
    "print(\"### TAG DICTIONARY SAMPLE ###\")\n",
    "print(list(sentences.id_by_tag.items())[0:5])\n",
    "print(sentences.tag_count, \"tags\")\n",
    "print()\n"
   ]
  }
 ],
 "metadata": {
  "kernelspec": {
   "display_name": "Python 3",
   "language": "python",
   "name": "python3"
  },
  "language_info": {
   "codemirror_mode": {
    "name": "ipython",
    "version": 3
   },
   "file_extension": ".py",
   "mimetype": "text/x-python",
   "name": "python",
   "nbconvert_exporter": "python",
   "pygments_lexer": "ipython3",
   "version": "3.7.2"
  }
 },
 "nbformat": 4,
 "nbformat_minor": 2
}
